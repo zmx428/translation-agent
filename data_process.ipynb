{
 "cells": [
  {
   "cell_type": "markdown",
   "metadata": {},
   "source": [
    "# Data Process"
   ]
  },
  {
   "cell_type": "code",
   "execution_count": 1,
   "metadata": {},
   "outputs": [
    {
     "name": "stdout",
     "output_type": "stream",
     "text": [
      "转换完成，结果保存在 AdvertiseGenChatML/train.json\n"
     ]
    }
   ],
   "source": [
    "# 转换为 ChatML 格式\n",
    "import json\n",
    "\n",
    "# 读取JSON文件\n",
    "file_path = 'AdvertiseGen/train.json'\n",
    "with open(file_path, 'r', encoding='utf-8') as file:\n",
    "    data = [json.loads(line) for line in file]\n",
    "\n",
    "# 定义去除换行符的函数\n",
    "def clean_text(text):\n",
    "    return ' '.join(text.split())\n",
    "\n",
    "# 构造 ChatML 格式数据\n",
    "chatml_data = []\n",
    "for entry in data:\n",
    "    messages = [\n",
    "        {\"role\": \"system\", \"content\": \"This is a summary of the product.\"},\n",
    "        {\"role\": \"user\", \"content\": clean_text(entry['content'])},\n",
    "        {\"role\": \"assistant\", \"content\": clean_text(entry['summary'])}\n",
    "    ]\n",
    "    chatml_data.append({\"messages\": messages})\n",
    "\n",
    "# 将 ChatML 数据转换为字符串，每行一个 messages\n",
    "chatml_str = \"\\n\".join(json.dumps(item, ensure_ascii=False) for item in chatml_data)\n",
    "\n",
    "# 输出结果\n",
    "output_path = 'AdvertiseGenChatML/train.json'\n",
    "with open(output_path, 'w', encoding='utf-8') as file:\n",
    "    file.write(chatml_str)\n",
    "\n",
    "print(f\"转换完成，结果保存在 {output_path}\")"
   ]
  }
 ],
 "metadata": {
  "kernelspec": {
   "display_name": "Python 3 (ipykernel)",
   "language": "python",
   "name": "python3"
  },
  "language_info": {
   "codemirror_mode": {
    "name": "ipython",
    "version": 3
   },
   "file_extension": ".py",
   "mimetype": "text/x-python",
   "name": "python",
   "nbconvert_exporter": "python",
   "pygments_lexer": "ipython3",
   "version": "3.10.14"
  }
 },
 "nbformat": 4,
 "nbformat_minor": 4
}
